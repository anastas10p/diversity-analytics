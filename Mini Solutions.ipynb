{
 "cells": [
  {
   "cell_type": "code",
   "execution_count": 1,
   "metadata": {},
   "outputs": [
    {
     "data": {
      "text/html": [
       "\n",
       "        <div>\n",
       "            <p><b>SparkContext</b></p>\n",
       "\n",
       "            <p><a href=\"http://10.128.0.4:4040\">Spark UI</a></p>\n",
       "\n",
       "            <dl>\n",
       "              <dt>Version</dt>\n",
       "                <dd><code>v2.2.1</code></dd>\n",
       "              <dt>Master</dt>\n",
       "                <dd><code>yarn</code></dd>\n",
       "              <dt>AppName</dt>\n",
       "                <dd><code>pyspark-shell</code></dd>\n",
       "            </dl>\n",
       "        </div>\n",
       "        "
      ],
      "text/plain": [
       "<SparkContext master=yarn appName=pyspark-shell>"
      ]
     },
     "execution_count": 1,
     "metadata": {},
     "output_type": "execute_result"
    }
   ],
   "source": [
    "sc"
   ]
  },
  {
   "cell_type": "code",
   "execution_count": 4,
   "metadata": {},
   "outputs": [
    {
     "data": {
      "text/html": [
       "\n",
       "            <div>\n",
       "                <p><b>SparkSession - hive</b></p>\n",
       "                \n",
       "        <div>\n",
       "            <p><b>SparkContext</b></p>\n",
       "\n",
       "            <p><a href=\"http://10.128.0.4:4040\">Spark UI</a></p>\n",
       "\n",
       "            <dl>\n",
       "              <dt>Version</dt>\n",
       "                <dd><code>v2.2.1</code></dd>\n",
       "              <dt>Master</dt>\n",
       "                <dd><code>yarn</code></dd>\n",
       "              <dt>AppName</dt>\n",
       "                <dd><code>pyspark-shell</code></dd>\n",
       "            </dl>\n",
       "        </div>\n",
       "        \n",
       "            </div>\n",
       "        "
      ],
      "text/plain": [
       "<pyspark.sql.session.SparkSession at 0x7f50400c6e48>"
      ]
     },
     "execution_count": 4,
     "metadata": {},
     "output_type": "execute_result"
    }
   ],
   "source": [
    "spark"
   ]
  },
  {
   "cell_type": "markdown",
   "metadata": {},
   "source": [
    "Figure out what data we have to work with"
   ]
  },
  {
   "cell_type": "code",
   "execution_count": 5,
   "metadata": {},
   "outputs": [
    {
     "name": "stdout",
     "output_type": "stream",
     "text": [
      "gs://asf-diversity-data/jupyter_config_hacks.py\r\n",
      "gs://asf-diversity-data/jupyter_new.sh\r\n",
      "gs://asf-diversity-data/active_sample_sizes/\r\n",
      "gs://asf-diversity-data/apache_people.csv/\r\n",
      "gs://asf-diversity-data/apache_people_cleaned_agg_by_gender/\r\n",
      "gs://asf-diversity-data/asf_people_cleaned_agg_by_gender_and_proj/\r\n",
      "gs://asf-diversity-data/authors_grouped_by_id/\r\n",
      "gs://asf-diversity-data/authors_to_github/\r\n",
      "gs://asf-diversity-data/distinct_authors_latest_commit/\r\n",
      "gs://asf-diversity-data/formatted_sample_csv/\r\n",
      "gs://asf-diversity-data/formatted_sample_pq/\r\n",
      "gs://asf-diversity-data/human_data/\r\n",
      "gs://asf-diversity-data/human_data_cleaned/\r\n",
      "gs://asf-diversity-data/infered_gender_for_authors_pq/\r\n",
      "gs://asf-diversity-data/infered_gender_for_recent_authors_pq/\r\n",
      "gs://asf-diversity-data/joined_sample/\r\n",
      "gs://asf-diversity-data/mailing_list_info/\r\n",
      "gs://asf-diversity-data/posts_by_sampled_authors/\r\n",
      "gs://asf-diversity-data/posts_by_user/\r\n",
      "gs://asf-diversity-data/processed_mbox_data/\r\n",
      "gs://asf-diversity-data/projects/\r\n",
      "gs://asf-diversity-data/projects_result/\r\n",
      "gs://asf-diversity-data/raw_git_data/\r\n",
      "gs://asf-diversity-data/sample_sizes/\r\n",
      "gs://asf-diversity-data/sampled_authors/\r\n",
      "gs://asf-diversity-data/sampled_contirbutors_human_agg_by_gender_and_proj/\r\n"
     ]
    }
   ],
   "source": [
    "!gsutil ls gs://asf-diversity-data/"
   ]
  },
  {
   "cell_type": "code",
   "execution_count": 23,
   "metadata": {},
   "outputs": [],
   "source": [
    "raw_github_data = spark.read.load(\"gs://asf-diversity-data/raw_git_data/\")"
   ]
  },
  {
   "cell_type": "code",
   "execution_count": 24,
   "metadata": {},
   "outputs": [
    {
     "data": {
      "text/plain": [
       "1555064"
      ]
     },
     "execution_count": 24,
     "metadata": {},
     "output_type": "execute_result"
    }
   ],
   "source": [
    "github_data = raw_github_data.repartition(20).cache()\n",
    "github_data.count()"
   ]
  },
  {
   "cell_type": "code",
   "execution_count": 25,
   "metadata": {},
   "outputs": [
    {
     "data": {
      "text/plain": [
       "StructType(List(StructField(backend_name,StringType,true),StructField(backend_version,StringType,true),StructField(category,StringType,true),StructField(data,MapType(StringType,StringType,true),true),StructField(origin,StringType,true),StructField(perceval_version,StringType,true),StructField(project_name,StringType,true),StructField(tag,StringType,true),StructField(timestamp,DoubleType,true),StructField(updated_on,DoubleType,true),StructField(uuid,StringType,true)))"
      ]
     },
     "execution_count": 25,
     "metadata": {},
     "output_type": "execute_result"
    }
   ],
   "source": [
    "github_data.schema"
   ]
  },
  {
   "cell_type": "code",
   "execution_count": 29,
   "metadata": {},
   "outputs": [],
   "source": [
    "from pyspark.sql import functions as f"
   ]
  },
  {
   "cell_type": "code",
   "execution_count": null,
   "metadata": {},
   "outputs": [],
   "source": []
  },
  {
   "cell_type": "code",
   "execution_count": 30,
   "metadata": {},
   "outputs": [
    {
     "data": {
      "text/html": [
       "<div>\n",
       "<style scoped>\n",
       "    .dataframe tbody tr th:only-of-type {\n",
       "        vertical-align: middle;\n",
       "    }\n",
       "\n",
       "    .dataframe tbody tr th {\n",
       "        vertical-align: top;\n",
       "    }\n",
       "\n",
       "    .dataframe thead th {\n",
       "        text-align: right;\n",
       "    }\n",
       "</style>\n",
       "<table border=\"1\" class=\"dataframe\">\n",
       "  <thead>\n",
       "    <tr style=\"text-align: right;\">\n",
       "      <th></th>\n",
       "      <th>backend_name</th>\n",
       "      <th>backend_version</th>\n",
       "      <th>category</th>\n",
       "      <th>data</th>\n",
       "      <th>origin</th>\n",
       "      <th>perceval_version</th>\n",
       "      <th>project_name</th>\n",
       "      <th>tag</th>\n",
       "      <th>timestamp</th>\n",
       "      <th>updated_on</th>\n",
       "      <th>uuid</th>\n",
       "    </tr>\n",
       "  </thead>\n",
       "  <tbody>\n",
       "    <tr>\n",
       "      <th>0</th>\n",
       "      <td>Git</td>\n",
       "      <td>0.10.2</td>\n",
       "      <td>commit</td>\n",
       "      <td>{'Commit': 'Martin Ritchie &lt;ritchiem@apache.or...</td>\n",
       "      <td>https://github.com/apache/qpid.git</td>\n",
       "      <td>0.9.16</td>\n",
       "      <td>qpid</td>\n",
       "      <td>https://github.com/apache/qpid.git</td>\n",
       "      <td>1.523656e+09</td>\n",
       "      <td>1.158764e+09</td>\n",
       "      <td>68dd458759540e7649a5c970937ddd710afd166f</td>\n",
       "    </tr>\n",
       "    <tr>\n",
       "      <th>1</th>\n",
       "      <td>Git</td>\n",
       "      <td>0.10.2</td>\n",
       "      <td>commit</td>\n",
       "      <td>{'Commit': 'Martin Ritchie &lt;ritchiem@apache.or...</td>\n",
       "      <td>https://github.com/apache/qpid.git</td>\n",
       "      <td>0.9.16</td>\n",
       "      <td>qpid</td>\n",
       "      <td>https://github.com/apache/qpid.git</td>\n",
       "      <td>1.523656e+09</td>\n",
       "      <td>1.159348e+09</td>\n",
       "      <td>db0f4b7f409abc534b4b90b4814685fd91645a79</td>\n",
       "    </tr>\n",
       "    <tr>\n",
       "      <th>2</th>\n",
       "      <td>Git</td>\n",
       "      <td>0.10.2</td>\n",
       "      <td>commit</td>\n",
       "      <td>{'Commit': 'Martin Ritchie &lt;ritchiem@apache.or...</td>\n",
       "      <td>https://github.com/apache/qpid.git</td>\n",
       "      <td>0.9.16</td>\n",
       "      <td>qpid</td>\n",
       "      <td>https://github.com/apache/qpid.git</td>\n",
       "      <td>1.523656e+09</td>\n",
       "      <td>1.160049e+09</td>\n",
       "      <td>59ab9e2a41c0e2f9c4f73e5c37a3262c05b46ed4</td>\n",
       "    </tr>\n",
       "    <tr>\n",
       "      <th>3</th>\n",
       "      <td>Git</td>\n",
       "      <td>0.10.2</td>\n",
       "      <td>commit</td>\n",
       "      <td>{'Commit': 'Robert Greig &lt;rgreig@apache.org&gt;',...</td>\n",
       "      <td>https://github.com/apache/qpid.git</td>\n",
       "      <td>0.9.16</td>\n",
       "      <td>qpid</td>\n",
       "      <td>https://github.com/apache/qpid.git</td>\n",
       "      <td>1.523656e+09</td>\n",
       "      <td>1.160684e+09</td>\n",
       "      <td>b13f951ada229fb15aa122f2cba58e0a367d0086</td>\n",
       "    </tr>\n",
       "    <tr>\n",
       "      <th>4</th>\n",
       "      <td>Git</td>\n",
       "      <td>0.10.2</td>\n",
       "      <td>commit</td>\n",
       "      <td>{'Commit': 'Alan Conway &lt;aconway@apache.org&gt;',...</td>\n",
       "      <td>https://github.com/apache/qpid.git</td>\n",
       "      <td>0.9.16</td>\n",
       "      <td>qpid</td>\n",
       "      <td>https://github.com/apache/qpid.git</td>\n",
       "      <td>1.523656e+09</td>\n",
       "      <td>1.161215e+09</td>\n",
       "      <td>bce67ae826132c4008aca047e74026b29fee3b52</td>\n",
       "    </tr>\n",
       "    <tr>\n",
       "      <th>5</th>\n",
       "      <td>Git</td>\n",
       "      <td>0.10.2</td>\n",
       "      <td>commit</td>\n",
       "      <td>{'Commit': 'Gordon Sim &lt;gsim@apache.org&gt;', 'Au...</td>\n",
       "      <td>https://github.com/apache/qpid.git</td>\n",
       "      <td>0.9.16</td>\n",
       "      <td>qpid</td>\n",
       "      <td>https://github.com/apache/qpid.git</td>\n",
       "      <td>1.523656e+09</td>\n",
       "      <td>1.161768e+09</td>\n",
       "      <td>e0291768664ef9e6691efe4946ca3adb154bedc6</td>\n",
       "    </tr>\n",
       "  </tbody>\n",
       "</table>\n",
       "</div>"
      ],
      "text/plain": [
       "  backend_name backend_version category  \\\n",
       "0          Git          0.10.2   commit   \n",
       "1          Git          0.10.2   commit   \n",
       "2          Git          0.10.2   commit   \n",
       "3          Git          0.10.2   commit   \n",
       "4          Git          0.10.2   commit   \n",
       "5          Git          0.10.2   commit   \n",
       "\n",
       "                                                data  \\\n",
       "0  {'Commit': 'Martin Ritchie <ritchiem@apache.or...   \n",
       "1  {'Commit': 'Martin Ritchie <ritchiem@apache.or...   \n",
       "2  {'Commit': 'Martin Ritchie <ritchiem@apache.or...   \n",
       "3  {'Commit': 'Robert Greig <rgreig@apache.org>',...   \n",
       "4  {'Commit': 'Alan Conway <aconway@apache.org>',...   \n",
       "5  {'Commit': 'Gordon Sim <gsim@apache.org>', 'Au...   \n",
       "\n",
       "                               origin perceval_version project_name  \\\n",
       "0  https://github.com/apache/qpid.git           0.9.16         qpid   \n",
       "1  https://github.com/apache/qpid.git           0.9.16         qpid   \n",
       "2  https://github.com/apache/qpid.git           0.9.16         qpid   \n",
       "3  https://github.com/apache/qpid.git           0.9.16         qpid   \n",
       "4  https://github.com/apache/qpid.git           0.9.16         qpid   \n",
       "5  https://github.com/apache/qpid.git           0.9.16         qpid   \n",
       "\n",
       "                                  tag     timestamp    updated_on  \\\n",
       "0  https://github.com/apache/qpid.git  1.523656e+09  1.158764e+09   \n",
       "1  https://github.com/apache/qpid.git  1.523656e+09  1.159348e+09   \n",
       "2  https://github.com/apache/qpid.git  1.523656e+09  1.160049e+09   \n",
       "3  https://github.com/apache/qpid.git  1.523656e+09  1.160684e+09   \n",
       "4  https://github.com/apache/qpid.git  1.523656e+09  1.161215e+09   \n",
       "5  https://github.com/apache/qpid.git  1.523656e+09  1.161768e+09   \n",
       "\n",
       "                                       uuid  \n",
       "0  68dd458759540e7649a5c970937ddd710afd166f  \n",
       "1  db0f4b7f409abc534b4b90b4814685fd91645a79  \n",
       "2  59ab9e2a41c0e2f9c4f73e5c37a3262c05b46ed4  \n",
       "3  b13f951ada229fb15aa122f2cba58e0a367d0086  \n",
       "4  bce67ae826132c4008aca047e74026b29fee3b52  \n",
       "5  e0291768664ef9e6691efe4946ca3adb154bedc6  "
      ]
     },
     "execution_count": 30,
     "metadata": {},
     "output_type": "execute_result"
    }
   ],
   "source": [
    "github_data.limit(6).toPandas()"
   ]
  },
  {
   "cell_type": "code",
   "execution_count": 70,
   "metadata": {},
   "outputs": [],
   "source": [
    "# I use a map because I'm used to functional programming, but there are other options\n",
    "# However element_at isn't in the Python DF API until 2.4 :(\n",
    "from pyspark.sql import Row\n",
    "authors = github_data.select(github_data.data).rdd.map(lambda row: Row(author=row['data']['Author'])).toDF()"
   ]
  },
  {
   "cell_type": "code",
   "execution_count": 71,
   "metadata": {},
   "outputs": [
    {
     "data": {
      "text/html": [
       "<div>\n",
       "<style scoped>\n",
       "    .dataframe tbody tr th:only-of-type {\n",
       "        vertical-align: middle;\n",
       "    }\n",
       "\n",
       "    .dataframe tbody tr th {\n",
       "        vertical-align: top;\n",
       "    }\n",
       "\n",
       "    .dataframe thead th {\n",
       "        text-align: right;\n",
       "    }\n",
       "</style>\n",
       "<table border=\"1\" class=\"dataframe\">\n",
       "  <thead>\n",
       "    <tr style=\"text-align: right;\">\n",
       "      <th></th>\n",
       "      <th>author</th>\n",
       "    </tr>\n",
       "  </thead>\n",
       "  <tbody>\n",
       "    <tr>\n",
       "      <th>0</th>\n",
       "      <td>Martin Ritchie &lt;ritchiem@apache.org&gt;</td>\n",
       "    </tr>\n",
       "    <tr>\n",
       "      <th>1</th>\n",
       "      <td>Martin Ritchie &lt;ritchiem@apache.org&gt;</td>\n",
       "    </tr>\n",
       "    <tr>\n",
       "      <th>2</th>\n",
       "      <td>Martin Ritchie &lt;ritchiem@apache.org&gt;</td>\n",
       "    </tr>\n",
       "    <tr>\n",
       "      <th>3</th>\n",
       "      <td>Robert Greig &lt;rgreig@apache.org&gt;</td>\n",
       "    </tr>\n",
       "    <tr>\n",
       "      <th>4</th>\n",
       "      <td>Alan Conway &lt;aconway@apache.org&gt;</td>\n",
       "    </tr>\n",
       "  </tbody>\n",
       "</table>\n",
       "</div>"
      ],
      "text/plain": [
       "                                 author\n",
       "0  Martin Ritchie <ritchiem@apache.org>\n",
       "1  Martin Ritchie <ritchiem@apache.org>\n",
       "2  Martin Ritchie <ritchiem@apache.org>\n",
       "3      Robert Greig <rgreig@apache.org>\n",
       "4      Alan Conway <aconway@apache.org>"
      ]
     },
     "execution_count": 71,
     "metadata": {},
     "output_type": "execute_result"
    }
   ],
   "source": [
    "authors.limit(5).toPandas()"
   ]
  },
  {
   "cell_type": "code",
   "execution_count": 72,
   "metadata": {},
   "outputs": [],
   "source": [
    "split_emails = authors.select(f.split(authors.author, \"\\.\").alias(\"split_emails\"))"
   ]
  },
  {
   "cell_type": "code",
   "execution_count": 80,
   "metadata": {},
   "outputs": [],
   "source": [
    "def extract_tld(row):\n",
    "    last_elem = row['split_emails'][-1]\n",
    "    if last_elem[-1] == \">\":\n",
    "        return last_elem[:-1]\n",
    "    else:\n",
    "        return last_elem\n",
    "\n",
    "\n",
    "tlds = split_emails.rdd.map(extract_tld).map(lambda raw_tld: Row(tld=raw_tld)).toDF()"
   ]
  },
  {
   "cell_type": "code",
   "execution_count": 89,
   "metadata": {},
   "outputs": [],
   "source": [
    "grouped = tlds.groupBy(tlds.tld).agg(f.count(\"*\").alias(\"num\"))"
   ]
  },
  {
   "cell_type": "code",
   "execution_count": 92,
   "metadata": {},
   "outputs": [],
   "source": [
    "popular_tlds = grouped.orderBy(grouped.num.desc())"
   ]
  },
  {
   "cell_type": "code",
   "execution_count": 93,
   "metadata": {},
   "outputs": [
    {
     "data": {
      "text/html": [
       "<div>\n",
       "<style scoped>\n",
       "    .dataframe tbody tr th:only-of-type {\n",
       "        vertical-align: middle;\n",
       "    }\n",
       "\n",
       "    .dataframe tbody tr th {\n",
       "        vertical-align: top;\n",
       "    }\n",
       "\n",
       "    .dataframe thead th {\n",
       "        text-align: right;\n",
       "    }\n",
       "</style>\n",
       "<table border=\"1\" class=\"dataframe\">\n",
       "  <thead>\n",
       "    <tr style=\"text-align: right;\">\n",
       "      <th></th>\n",
       "      <th>tld</th>\n",
       "      <th>num</th>\n",
       "    </tr>\n",
       "  </thead>\n",
       "  <tbody>\n",
       "    <tr>\n",
       "      <th>0</th>\n",
       "      <td>org</td>\n",
       "      <td>1076444</td>\n",
       "    </tr>\n",
       "    <tr>\n",
       "      <th>1</th>\n",
       "      <td>com</td>\n",
       "      <td>383104</td>\n",
       "    </tr>\n",
       "    <tr>\n",
       "      <th>2</th>\n",
       "      <td>net</td>\n",
       "      <td>13682</td>\n",
       "    </tr>\n",
       "    <tr>\n",
       "      <th>3</th>\n",
       "      <td>io</td>\n",
       "      <td>12934</td>\n",
       "    </tr>\n",
       "    <tr>\n",
       "      <th>4</th>\n",
       "      <td>de</td>\n",
       "      <td>7849</td>\n",
       "    </tr>\n",
       "    <tr>\n",
       "      <th>5</th>\n",
       "      <td>uk</td>\n",
       "      <td>6434</td>\n",
       "    </tr>\n",
       "    <tr>\n",
       "      <th>6</th>\n",
       "      <td>edu</td>\n",
       "      <td>6351</td>\n",
       "    </tr>\n",
       "    <tr>\n",
       "      <th>7</th>\n",
       "      <td>au</td>\n",
       "      <td>6201</td>\n",
       "    </tr>\n",
       "    <tr>\n",
       "      <th>8</th>\n",
       "      <td>spamassassin_role &lt;spamassassin_role@unknown</td>\n",
       "      <td>2419</td>\n",
       "    </tr>\n",
       "    <tr>\n",
       "      <th>9</th>\n",
       "      <td>hu</td>\n",
       "      <td>1808</td>\n",
       "    </tr>\n",
       "  </tbody>\n",
       "</table>\n",
       "</div>"
      ],
      "text/plain": [
       "                                            tld      num\n",
       "0                                           org  1076444\n",
       "1                                           com   383104\n",
       "2                                           net    13682\n",
       "3                                            io    12934\n",
       "4                                            de     7849\n",
       "5                                            uk     6434\n",
       "6                                           edu     6351\n",
       "7                                            au     6201\n",
       "8  spamassassin_role <spamassassin_role@unknown     2419\n",
       "9                                            hu     1808"
      ]
     },
     "execution_count": 93,
     "metadata": {},
     "output_type": "execute_result"
    }
   ],
   "source": [
    "popular_tlds.limit(10).toPandas()"
   ]
  },
  {
   "cell_type": "code",
   "execution_count": 19,
   "metadata": {},
   "outputs": [
    {
     "name": "stdout",
     "output_type": "stream",
     "text": [
      "+---------------+\n",
      "|upper(category)|\n",
      "+---------------+\n",
      "|         COMMIT|\n",
      "|         COMMIT|\n",
      "|         COMMIT|\n",
      "|         COMMIT|\n",
      "|         COMMIT|\n",
      "|         COMMIT|\n",
      "|         COMMIT|\n",
      "|         COMMIT|\n",
      "|         COMMIT|\n",
      "|         COMMIT|\n",
      "|         COMMIT|\n",
      "|         COMMIT|\n",
      "|         COMMIT|\n",
      "|         COMMIT|\n",
      "|         COMMIT|\n",
      "|         COMMIT|\n",
      "|         COMMIT|\n",
      "|         COMMIT|\n",
      "|         COMMIT|\n",
      "|         COMMIT|\n",
      "+---------------+\n",
      "only showing top 20 rows\n",
      "\n"
     ]
    }
   ],
   "source": [
    "from pyspark.sql.functions import upper\n",
    "github_data.select(upper(github_data.category)).show()"
   ]
  },
  {
   "cell_type": "code",
   "execution_count": null,
   "metadata": {},
   "outputs": [],
   "source": []
  }
 ],
 "metadata": {
  "kernelspec": {
   "display_name": "PySpark",
   "language": "python",
   "name": "pyspark"
  },
  "language_info": {
   "codemirror_mode": {
    "name": "ipython",
    "version": 3
   },
   "file_extension": ".py",
   "mimetype": "text/x-python",
   "name": "python",
   "nbconvert_exporter": "python",
   "pygments_lexer": "ipython3",
   "version": "3.6.5"
  }
 },
 "nbformat": 4,
 "nbformat_minor": 2
}