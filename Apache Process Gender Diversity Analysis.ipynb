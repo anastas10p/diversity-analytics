{
 "cells": [
  {
   "cell_type": "markdown",
   "metadata": {
    "deletable": true,
    "editable": true
   },
   "source": [
    "This notebook seeks to explore the gender diversity of the different apache projects & the process"
   ]
  },
  {
   "cell_type": "code",
   "execution_count": 229,
   "metadata": {
    "collapsed": false,
    "deletable": true,
    "editable": true
   },
   "outputs": [],
   "source": [
    "from pyspark import *\n",
    "from pyspark.sql import *\n",
    "from pyspark.sql.functions import explode\n",
    "from pyspark.sql.types import *\n",
    "\n",
    "import json\n",
    "import os\n",
    "import meetup.api\n",
    "from copy import copy\n",
    "import time\n"
   ]
  },
  {
   "cell_type": "markdown",
   "metadata": {},
   "source": [
    "API key configuration"
   ]
  },
  {
   "cell_type": "code",
   "execution_count": 230,
   "metadata": {
    "collapsed": true
   },
   "outputs": [],
   "source": [
    "meetup_key = os.getenv(\"MEETUP_APIKEY\")"
   ]
  },
  {
   "cell_type": "code",
   "execution_count": 2,
   "metadata": {
    "collapsed": false,
    "deletable": true,
    "editable": true
   },
   "outputs": [],
   "source": [
    "session = SparkSession.builder.appName(\"whatCanWeLearnFromTheSixties\").getOrCreate()\n",
    "sc = session.sparkContext"
   ]
  },
  {
   "cell_type": "markdown",
   "metadata": {
    "deletable": true,
    "editable": true
   },
   "source": [
    "The first thing we want to get is the committers and PMC members, this information is stored in LDAP but also available in JSON. Eventually we will want to enrich this with mailing list information"
   ]
  },
  {
   "cell_type": "code",
   "execution_count": 105,
   "metadata": {
    "collapsed": false,
    "deletable": true,
    "editable": true
   },
   "outputs": [],
   "source": [
    "def loadFlatJsonFile(path, explodeKey, schema=None):\n",
    "    \"\"\"Load a flat multi-line json file and convert into Spark & explode\"\"\"\n",
    "    rdd = sc.wholeTextFiles(path).values()\n",
    "    df = (session.read.schema(schema)\n",
    "            .json(rdd))\n",
    "    return df.select(explode(explodeKey))"
   ]
  },
  {
   "cell_type": "code",
   "execution_count": 106,
   "metadata": {
    "collapsed": false
   },
   "outputs": [],
   "source": [
    "apache_people_schema = StructType([StructField(\"lastCreateTimestamp\", StringType()),\n",
    "                     StructField(\"people\",\n",
    "                                 MapType(StringType(), MapType(StringType(), StringType())))])\n",
    "apache_people_df = loadFlatJsonFile(path=\"http_data_sources/public_ldap_people.json\", # http://people.apache.org/public/public_ldap_people.json\n",
    "                                 explodeKey=\"people\", schema=apache_people_schema)"
   ]
  },
  {
   "cell_type": "code",
   "execution_count": 213,
   "metadata": {
    "collapsed": false
   },
   "outputs": [],
   "source": [
    "def project_on_github(project):\n",
    "    \"\"\"Returns if a project is on github\"\"\"\n",
    "    import urllib3\n",
    "    http = urllib3.PoolManager()\n",
    "    r = http.request('GET', \"https://github.com/apache/{0}\".format(project))\n",
    "    return r.status == 200\n",
    "session.catalog.registerFunction(\"on_github\", project_on_github, BooleanType())\n",
    "# Except I'm a bad person so....\n",
    "from pyspark.sql.catalog import UserDefinedFunction\n",
    "project_on_github_udf = UserDefinedFunction(project_on_github, BooleanType(), \"on_github\")\n",
    "session.catalog._jsparkSession.udf().registerPython(\"on_github\", udf._judf)"
   ]
  },
  {
   "cell_type": "code",
   "execution_count": 216,
   "metadata": {
    "collapsed": false,
    "deletable": true,
    "editable": true
   },
   "outputs": [
    {
     "data": {
      "text/plain": [
       "[Row(project='abdera'),\n",
       " Row(project='accumulo'),\n",
       " Row(project='ace'),\n",
       " Row(project='activemq'),\n",
       " Row(project='airavata'),\n",
       " Row(project='allura'),\n",
       " Row(project='ambari'),\n",
       " Row(project='ant'),\n",
       " Row(project='any23'),\n",
       " Row(project='apr'),\n",
       " Row(project='archiva'),\n",
       " Row(project='aries'),\n",
       " Row(project='arrow'),\n",
       " Row(project='asterixdb'),\n",
       " Row(project='aurora'),\n",
       " Row(project='avro'),\n",
       " Row(project='bahir'),\n",
       " Row(project='beam'),\n",
       " Row(project='bigtop'),\n",
       " Row(project='bloodhound'),\n",
       " Row(project='bookkeeper'),\n",
       " Row(project='brooklyn'),\n",
       " Row(project='buildr'),\n",
       " Row(project='bval'),\n",
       " Row(project='calcite'),\n",
       " Row(project='camel'),\n",
       " Row(project='cassandra'),\n",
       " Row(project='cayenne'),\n",
       " Row(project='celix'),\n",
       " Row(project='chemistry'),\n",
       " Row(project='chukwa'),\n",
       " Row(project='clerezza'),\n",
       " Row(project='climate'),\n",
       " Row(project='cloudstack'),\n",
       " Row(project='cocoon'),\n",
       " Row(project='couchdb'),\n",
       " Row(project='crunch'),\n",
       " Row(project='ctakes'),\n",
       " Row(project='curator'),\n",
       " Row(project='cxf'),\n",
       " Row(project='deltacloud'),\n",
       " Row(project='deltaspike'),\n",
       " Row(project='drill'),\n",
       " Row(project='eagle'),\n",
       " Row(project='empire-db'),\n",
       " Row(project='falcon'),\n",
       " Row(project='felix'),\n",
       " Row(project='flink'),\n",
       " Row(project='flume'),\n",
       " Row(project='forrest'),\n",
       " Row(project='geode'),\n",
       " Row(project='geronimo'),\n",
       " Row(project='giraph'),\n",
       " Row(project='gora'),\n",
       " Row(project='groovy'),\n",
       " Row(project='hadoop'),\n",
       " Row(project='hama'),\n",
       " Row(project='hbase'),\n",
       " Row(project='helix'),\n",
       " Row(project='hive'),\n",
       " Row(project='httpd'),\n",
       " Row(project='ignite'),\n",
       " Row(project='incubator'),\n",
       " Row(project='isis'),\n",
       " Row(project='jackrabbit'),\n",
       " Row(project='james'),\n",
       " Row(project='jclouds'),\n",
       " Row(project='jena'),\n",
       " Row(project='jmeter'),\n",
       " Row(project='johnzon'),\n",
       " Row(project='jspwiki'),\n",
       " Row(project='juddi'),\n",
       " Row(project='kafka'),\n",
       " Row(project='karaf'),\n",
       " Row(project='knox'),\n",
       " Row(project='kudu'),\n",
       " Row(project='kylin'),\n",
       " Row(project='lens'),\n",
       " Row(project='libcloud'),\n",
       " Row(project='lucenenet'),\n",
       " Row(project='lucy'),\n",
       " Row(project='mahout'),\n",
       " Row(project='manifoldcf'),\n",
       " Row(project='marmotta'),\n",
       " Row(project='maven'),\n",
       " Row(project='mesos'),\n",
       " Row(project='metamodel'),\n",
       " Row(project='mina'),\n",
       " Row(project='myfaces'),\n",
       " Row(project='nifi'),\n",
       " Row(project='nutch'),\n",
       " Row(project='ode'),\n",
       " Row(project='ofbiz'),\n",
       " Row(project='oltu'),\n",
       " Row(project='oodt'),\n",
       " Row(project='oozie'),\n",
       " Row(project='openjpa'),\n",
       " Row(project='openmeetings'),\n",
       " Row(project='opennlp'),\n",
       " Row(project='openoffice'),\n",
       " Row(project='openwebbeans'),\n",
       " Row(project='orc'),\n",
       " Row(project='pdfbox'),\n",
       " Row(project='phoenix'),\n",
       " Row(project='pig'),\n",
       " Row(project='pivot'),\n",
       " Row(project='poi'),\n",
       " Row(project='qpid'),\n",
       " Row(project='ranger'),\n",
       " Row(project='reef'),\n",
       " Row(project='river'),\n",
       " Row(project='roller'),\n",
       " Row(project='samza'),\n",
       " Row(project='sentry'),\n",
       " Row(project='serf'),\n",
       " Row(project='servicemix'),\n",
       " Row(project='shiro'),\n",
       " Row(project='sis'),\n",
       " Row(project='sling'),\n",
       " Row(project='spamassassin'),\n",
       " Row(project='spark'),\n",
       " Row(project='sqoop'),\n",
       " Row(project='stanbol'),\n",
       " Row(project='steve'),\n",
       " Row(project='storm'),\n",
       " Row(project='stratos'),\n",
       " Row(project='struts'),\n",
       " Row(project='subversion'),\n",
       " Row(project='synapse'),\n",
       " Row(project='syncope'),\n",
       " Row(project='tajo'),\n",
       " Row(project='tez'),\n",
       " Row(project='thrift'),\n",
       " Row(project='tika'),\n",
       " Row(project='tiles'),\n",
       " Row(project='tinkerpop'),\n",
       " Row(project='tomcat'),\n",
       " Row(project='tomee'),\n",
       " Row(project='trafficserver'),\n",
       " Row(project='twill'),\n",
       " Row(project='usergrid'),\n",
       " Row(project='vxquery'),\n",
       " Row(project='whimsy'),\n",
       " Row(project='wicket'),\n",
       " Row(project='wink'),\n",
       " Row(project='yetus'),\n",
       " Row(project='zeppelin'),\n",
       " Row(project='zookeeper')]"
      ]
     },
     "execution_count": 216,
     "metadata": {},
     "output_type": "execute_result"
    }
   ],
   "source": [
    "apache_committees_schema = StructType([StructField(\"lastCreateTimestamp\", StringType()),\n",
    "                     StructField(\"committees\",\n",
    "                                 MapType(StringType(), MapType(StringType(), StringType())))])\n",
    "apache_committees_df = loadFlatJsonFile(path=\"http_data_sources/public_ldap_committees.json\", # http://people.apache.org/public/public_ldap_people.json\n",
    "                                 explodeKey=\"committees\", schema=apache_committees_schema)\n",
    "apache_committees_on_github_df = apache_committees_df.filter(project_on_github_udf(apache_committees_df.key))\n",
    "committee_names_df = apache_committees_on_github_df.select(apache_committees_df.key.alias(\"project\"))\n",
    "committee_names_df.cache()\n",
    "committee_names_df.count()"
   ]
  },
  {
   "cell_type": "markdown",
   "metadata": {},
   "source": [
    "Attempt to fetch relevant past & present meetups for each project - idea based on the listing at https://www.apache.org/events/meetups.html but different code"
   ]
  },
  {
   "cell_type": "code",
   "execution_count": 129,
   "metadata": {
    "collapsed": false,
    "deletable": true,
    "editable": true
   },
   "outputs": [],
   "source": []
  },
  {
   "cell_type": "code",
   "execution_count": 200,
   "metadata": {
    "collapsed": false,
    "deletable": true,
    "editable": true
   },
   "outputs": [],
   "source": [
    "logger = logging.getLogger()\n",
    "logger.setLevel(\"WARN\")\n",
    "def lookup_relevant_meetup(project_name):\n",
    "    \"\"\"Lookup relevant meetups for a specific project.\"\"\"\n",
    "    import logging\n",
    "    import time\n",
    "    import meetup.api\n",
    "    logger = logging.getLogger()\n",
    "    meetup_delay = 30\n",
    "    meetup_reset_delay = 1800 # 30 minutes\n",
    "    standard_keys = {\"text_format\": \"plain\", \"trending\": \"desc=true\", \"and_text\": \"true\", \"city\": \"san francisco\", \"country\": \"usa\", \"text\": \"apache \" + project_name, \"radius\": 10000}\n",
    "    results = {\"upcoming\": [], \"past\": []}\n",
    "    for status in [\"upcoming\", \"past\"]:\n",
    "        keys = copy(standard_keys)\n",
    "        keys[\"status\"] = status\n",
    "        count = 200\n",
    "        base = 0\n",
    "        while (count == 200):\n",
    "            logging.debug(\"Fetch {0} meetups for {1} on base {2}\".format(status, project_name, base))\n",
    "            project_name = \"spark\"\n",
    "            client = client = meetup.api.Client(meetup_key)\n",
    "            if base > 0:\n",
    "                keys[\"page\"] = base\n",
    "            # Manually sleep for meetup_reset_delay on failure, the meetup-api package retry logic sometimes breaks :(\n",
    "            response = None\n",
    "            retry_count = 0\n",
    "            while response is None and retry_count < 10:\n",
    "                try:\n",
    "                    response = client.GetOpenEvents(**keys)\n",
    "                except:\n",
    "                    response = None\n",
    "                    retry_count += 1\n",
    "                    time.sleep(meetup_reset_delay)\n",
    "                    try:\n",
    "                        response = client.GetOpenEvents(**keys)\n",
    "                    except:\n",
    "                        response = None\n",
    "            try:\n",
    "                count = response.meta['count']\n",
    "                base = base + count\n",
    "                results[status].append(response.results)\n",
    "                time.sleep(meetup_delay)\n",
    "            except:\n",
    "                count = 0\n",
    "    return (project_name, results)\n",
    "\n",
    "project_meetups_df = committee_names_df.rdd.map(lambda x: x.project).map(lookup_relevant_meetup)"
   ]
  },
  {
   "cell_type": "code",
   "execution_count": 201,
   "metadata": {
    "collapsed": false
   },
   "outputs": [
    {
     "ename": "KeyboardInterrupt",
     "evalue": "",
     "output_type": "error",
     "traceback": [
      "\u001b[0;31m---------------------------------------------------------------------------\u001b[0m",
      "\u001b[0;31mKeyboardInterrupt\u001b[0m                         Traceback (most recent call last)",
      "\u001b[0;32m<ipython-input-201-09b249ab30e7>\u001b[0m in \u001b[0;36m<module>\u001b[0;34m()\u001b[0m\n\u001b[1;32m      1\u001b[0m \u001b[0mproject_meetups_df\u001b[0m\u001b[0;34m.\u001b[0m\u001b[0mcache\u001b[0m\u001b[0;34m(\u001b[0m\u001b[0;34m)\u001b[0m\u001b[0;34m\u001b[0m\u001b[0m\n\u001b[0;32m----> 2\u001b[0;31m \u001b[0mproject_meetups_df\u001b[0m\u001b[0;34m.\u001b[0m\u001b[0mtake\u001b[0m\u001b[0;34m(\u001b[0m\u001b[0;36m1\u001b[0m\u001b[0;34m)\u001b[0m\u001b[0;34m\u001b[0m\u001b[0m\n\u001b[0m",
      "\u001b[0;32m/usr/local/lib/python3.4/dist-packages/pyspark/rdd.py\u001b[0m in \u001b[0;36mtake\u001b[0;34m(self, num)\u001b[0m\n\u001b[1;32m   1340\u001b[0m \u001b[0;34m\u001b[0m\u001b[0m\n\u001b[1;32m   1341\u001b[0m             \u001b[0mp\u001b[0m \u001b[0;34m=\u001b[0m \u001b[0mrange\u001b[0m\u001b[0;34m(\u001b[0m\u001b[0mpartsScanned\u001b[0m\u001b[0;34m,\u001b[0m \u001b[0mmin\u001b[0m\u001b[0;34m(\u001b[0m\u001b[0mpartsScanned\u001b[0m \u001b[0;34m+\u001b[0m \u001b[0mnumPartsToTry\u001b[0m\u001b[0;34m,\u001b[0m \u001b[0mtotalParts\u001b[0m\u001b[0;34m)\u001b[0m\u001b[0;34m)\u001b[0m\u001b[0;34m\u001b[0m\u001b[0m\n\u001b[0;32m-> 1342\u001b[0;31m             \u001b[0mres\u001b[0m \u001b[0;34m=\u001b[0m \u001b[0mself\u001b[0m\u001b[0;34m.\u001b[0m\u001b[0mcontext\u001b[0m\u001b[0;34m.\u001b[0m\u001b[0mrunJob\u001b[0m\u001b[0;34m(\u001b[0m\u001b[0mself\u001b[0m\u001b[0;34m,\u001b[0m \u001b[0mtakeUpToNumLeft\u001b[0m\u001b[0;34m,\u001b[0m \u001b[0mp\u001b[0m\u001b[0;34m)\u001b[0m\u001b[0;34m\u001b[0m\u001b[0m\n\u001b[0m\u001b[1;32m   1343\u001b[0m \u001b[0;34m\u001b[0m\u001b[0m\n\u001b[1;32m   1344\u001b[0m             \u001b[0mitems\u001b[0m \u001b[0;34m+=\u001b[0m \u001b[0mres\u001b[0m\u001b[0;34m\u001b[0m\u001b[0m\n",
      "\u001b[0;32m/usr/local/lib/python3.4/dist-packages/pyspark/context.py\u001b[0m in \u001b[0;36mrunJob\u001b[0;34m(self, rdd, partitionFunc, partitions, allowLocal)\u001b[0m\n\u001b[1;32m    966\u001b[0m         \u001b[0;31m# SparkContext#runJob.\u001b[0m\u001b[0;34m\u001b[0m\u001b[0;34m\u001b[0m\u001b[0m\n\u001b[1;32m    967\u001b[0m         \u001b[0mmappedRDD\u001b[0m \u001b[0;34m=\u001b[0m \u001b[0mrdd\u001b[0m\u001b[0;34m.\u001b[0m\u001b[0mmapPartitions\u001b[0m\u001b[0;34m(\u001b[0m\u001b[0mpartitionFunc\u001b[0m\u001b[0;34m)\u001b[0m\u001b[0;34m\u001b[0m\u001b[0m\n\u001b[0;32m--> 968\u001b[0;31m         \u001b[0mport\u001b[0m \u001b[0;34m=\u001b[0m \u001b[0mself\u001b[0m\u001b[0;34m.\u001b[0m\u001b[0m_jvm\u001b[0m\u001b[0;34m.\u001b[0m\u001b[0mPythonRDD\u001b[0m\u001b[0;34m.\u001b[0m\u001b[0mrunJob\u001b[0m\u001b[0;34m(\u001b[0m\u001b[0mself\u001b[0m\u001b[0;34m.\u001b[0m\u001b[0m_jsc\u001b[0m\u001b[0;34m.\u001b[0m\u001b[0msc\u001b[0m\u001b[0;34m(\u001b[0m\u001b[0;34m)\u001b[0m\u001b[0;34m,\u001b[0m \u001b[0mmappedRDD\u001b[0m\u001b[0;34m.\u001b[0m\u001b[0m_jrdd\u001b[0m\u001b[0;34m,\u001b[0m \u001b[0mpartitions\u001b[0m\u001b[0;34m)\u001b[0m\u001b[0;34m\u001b[0m\u001b[0m\n\u001b[0m\u001b[1;32m    969\u001b[0m         \u001b[0;32mreturn\u001b[0m \u001b[0mlist\u001b[0m\u001b[0;34m(\u001b[0m\u001b[0m_load_from_socket\u001b[0m\u001b[0;34m(\u001b[0m\u001b[0mport\u001b[0m\u001b[0;34m,\u001b[0m \u001b[0mmappedRDD\u001b[0m\u001b[0;34m.\u001b[0m\u001b[0m_jrdd_deserializer\u001b[0m\u001b[0;34m)\u001b[0m\u001b[0;34m)\u001b[0m\u001b[0;34m\u001b[0m\u001b[0m\n\u001b[1;32m    970\u001b[0m \u001b[0;34m\u001b[0m\u001b[0m\n",
      "\u001b[0;32m/usr/local/lib/python3.4/dist-packages/py4j/java_gateway.py\u001b[0m in \u001b[0;36m__call__\u001b[0;34m(self, *args)\u001b[0m\n\u001b[1;32m   1129\u001b[0m             \u001b[0mproto\u001b[0m\u001b[0;34m.\u001b[0m\u001b[0mEND_COMMAND_PART\u001b[0m\u001b[0;34m\u001b[0m\u001b[0m\n\u001b[1;32m   1130\u001b[0m \u001b[0;34m\u001b[0m\u001b[0m\n\u001b[0;32m-> 1131\u001b[0;31m         \u001b[0manswer\u001b[0m \u001b[0;34m=\u001b[0m \u001b[0mself\u001b[0m\u001b[0;34m.\u001b[0m\u001b[0mgateway_client\u001b[0m\u001b[0;34m.\u001b[0m\u001b[0msend_command\u001b[0m\u001b[0;34m(\u001b[0m\u001b[0mcommand\u001b[0m\u001b[0;34m)\u001b[0m\u001b[0;34m\u001b[0m\u001b[0m\n\u001b[0m\u001b[1;32m   1132\u001b[0m         return_value = get_return_value(\n\u001b[1;32m   1133\u001b[0m             answer, self.gateway_client, self.target_id, self.name)\n",
      "\u001b[0;32m/usr/local/lib/python3.4/dist-packages/py4j/java_gateway.py\u001b[0m in \u001b[0;36msend_command\u001b[0;34m(self, command, retry, binary)\u001b[0m\n\u001b[1;32m    881\u001b[0m         \u001b[0mconnection\u001b[0m \u001b[0;34m=\u001b[0m \u001b[0mself\u001b[0m\u001b[0;34m.\u001b[0m\u001b[0m_get_connection\u001b[0m\u001b[0;34m(\u001b[0m\u001b[0;34m)\u001b[0m\u001b[0;34m\u001b[0m\u001b[0m\n\u001b[1;32m    882\u001b[0m         \u001b[0;32mtry\u001b[0m\u001b[0;34m:\u001b[0m\u001b[0;34m\u001b[0m\u001b[0m\n\u001b[0;32m--> 883\u001b[0;31m             \u001b[0mresponse\u001b[0m \u001b[0;34m=\u001b[0m \u001b[0mconnection\u001b[0m\u001b[0;34m.\u001b[0m\u001b[0msend_command\u001b[0m\u001b[0;34m(\u001b[0m\u001b[0mcommand\u001b[0m\u001b[0;34m)\u001b[0m\u001b[0;34m\u001b[0m\u001b[0m\n\u001b[0m\u001b[1;32m    884\u001b[0m             \u001b[0;32mif\u001b[0m \u001b[0mbinary\u001b[0m\u001b[0;34m:\u001b[0m\u001b[0;34m\u001b[0m\u001b[0m\n\u001b[1;32m    885\u001b[0m                 \u001b[0;32mreturn\u001b[0m \u001b[0mresponse\u001b[0m\u001b[0;34m,\u001b[0m \u001b[0mself\u001b[0m\u001b[0;34m.\u001b[0m\u001b[0m_create_connection_guard\u001b[0m\u001b[0;34m(\u001b[0m\u001b[0mconnection\u001b[0m\u001b[0;34m)\u001b[0m\u001b[0;34m\u001b[0m\u001b[0m\n",
      "\u001b[0;32m/usr/local/lib/python3.4/dist-packages/py4j/java_gateway.py\u001b[0m in \u001b[0;36msend_command\u001b[0;34m(self, command)\u001b[0m\n\u001b[1;32m   1026\u001b[0m \u001b[0;34m\u001b[0m\u001b[0m\n\u001b[1;32m   1027\u001b[0m         \u001b[0;32mtry\u001b[0m\u001b[0;34m:\u001b[0m\u001b[0;34m\u001b[0m\u001b[0m\n\u001b[0;32m-> 1028\u001b[0;31m             \u001b[0manswer\u001b[0m \u001b[0;34m=\u001b[0m \u001b[0msmart_decode\u001b[0m\u001b[0;34m(\u001b[0m\u001b[0mself\u001b[0m\u001b[0;34m.\u001b[0m\u001b[0mstream\u001b[0m\u001b[0;34m.\u001b[0m\u001b[0mreadline\u001b[0m\u001b[0;34m(\u001b[0m\u001b[0;34m)\u001b[0m\u001b[0;34m[\u001b[0m\u001b[0;34m:\u001b[0m\u001b[0;34m-\u001b[0m\u001b[0;36m1\u001b[0m\u001b[0;34m]\u001b[0m\u001b[0;34m)\u001b[0m\u001b[0;34m\u001b[0m\u001b[0m\n\u001b[0m\u001b[1;32m   1029\u001b[0m             \u001b[0mlogger\u001b[0m\u001b[0;34m.\u001b[0m\u001b[0mdebug\u001b[0m\u001b[0;34m(\u001b[0m\u001b[0;34m\"Answer received: {0}\"\u001b[0m\u001b[0;34m.\u001b[0m\u001b[0mformat\u001b[0m\u001b[0;34m(\u001b[0m\u001b[0manswer\u001b[0m\u001b[0;34m)\u001b[0m\u001b[0;34m)\u001b[0m\u001b[0;34m\u001b[0m\u001b[0m\n\u001b[1;32m   1030\u001b[0m             \u001b[0;32mif\u001b[0m \u001b[0manswer\u001b[0m\u001b[0;34m.\u001b[0m\u001b[0mstartswith\u001b[0m\u001b[0;34m(\u001b[0m\u001b[0mproto\u001b[0m\u001b[0;34m.\u001b[0m\u001b[0mRETURN_MESSAGE\u001b[0m\u001b[0;34m)\u001b[0m\u001b[0;34m:\u001b[0m\u001b[0;34m\u001b[0m\u001b[0m\n",
      "\u001b[0;32m/usr/lib/python3.4/socket.py\u001b[0m in \u001b[0;36mreadinto\u001b[0;34m(self, b)\u001b[0m\n\u001b[1;32m    372\u001b[0m         \u001b[0;32mwhile\u001b[0m \u001b[0;32mTrue\u001b[0m\u001b[0;34m:\u001b[0m\u001b[0;34m\u001b[0m\u001b[0m\n\u001b[1;32m    373\u001b[0m             \u001b[0;32mtry\u001b[0m\u001b[0;34m:\u001b[0m\u001b[0;34m\u001b[0m\u001b[0m\n\u001b[0;32m--> 374\u001b[0;31m                 \u001b[0;32mreturn\u001b[0m \u001b[0mself\u001b[0m\u001b[0;34m.\u001b[0m\u001b[0m_sock\u001b[0m\u001b[0;34m.\u001b[0m\u001b[0mrecv_into\u001b[0m\u001b[0;34m(\u001b[0m\u001b[0mb\u001b[0m\u001b[0;34m)\u001b[0m\u001b[0;34m\u001b[0m\u001b[0m\n\u001b[0m\u001b[1;32m    375\u001b[0m             \u001b[0;32mexcept\u001b[0m \u001b[0mtimeout\u001b[0m\u001b[0;34m:\u001b[0m\u001b[0;34m\u001b[0m\u001b[0m\n\u001b[1;32m    376\u001b[0m                 \u001b[0mself\u001b[0m\u001b[0;34m.\u001b[0m\u001b[0m_timeout_occurred\u001b[0m \u001b[0;34m=\u001b[0m \u001b[0;32mTrue\u001b[0m\u001b[0;34m\u001b[0m\u001b[0m\n",
      "\u001b[0;31mKeyboardInterrupt\u001b[0m: "
     ]
    }
   ],
   "source": [
    "project_meetups_df.cache()\n",
    "project_meetups_df.take(1)"
   ]
  },
  {
   "cell_type": "markdown",
   "metadata": {},
   "source": [
    "For the provided projects attempt to lookup their GitHub"
   ]
  },
  {
   "cell_type": "code",
   "execution_count": 203,
   "metadata": {
    "collapsed": true
   },
   "outputs": [],
   "source": [
    "def lookup_project_git(project):\n",
    "    \"\"\"Returns the project github for a specific project. Assumes project is git hosted\"\"\"\n",
    "    return \"git://git.apache.org/{0}\".format(project)\n",
    "    "
   ]
  },
  {
   "cell_type": "code",
   "execution_count": 221,
   "metadata": {
    "collapsed": true
   },
   "outputs": [],
   "source": [
    "def fetch_project_github_data(project):\n",
    "    from perceval.backends.core.github import GitHub as perceval_github\n",
    "    gh_backend = perceval_github(owner=\"apache\", repository=project)\n",
    "    return list(gh_backend.fetch())"
   ]
  },
  {
   "cell_type": "code",
   "execution_count": 222,
   "metadata": {
    "collapsed": true
   },
   "outputs": [],
   "source": [
    "def fetch_project_git_data(project):\n",
    "    project_git = lookup_project_git(project)\n",
    "    from perceval.backends.core.git import Git as perceval_git\n",
    "    git_backend = perceval_git(owner=\"apache\", repository=project)\n",
    "    return list(gh_backend.fetch())"
   ]
  },
  {
   "cell_type": "code",
   "execution_count": 274,
   "metadata": {
    "collapsed": false
   },
   "outputs": [],
   "source": [
    "def lookup_crunchbase_gender(name, projects):\n",
    "    \"\"\"Lookup a person a crunch base and see what the gender is.\n",
    "    Filter for at least one mention of their projects.\"\"\"\n",
    "    return []\n",
    "    from bs4 import BeautifulSoup\n",
    "    import requests\n",
    "    headers = {'User-Agent': 'Mozilla/5.0 (X11; Linux x86_64) AppleWebKit/537.36 (KHTML, like Gecko) Chrome/55.0.2883.87 Safari/537.36',\n",
    "              'Aceept-Language': 'en-US,en;q=0.8', 'Accept': 'text/html,application/xhtml+xml,application/xml;q=0.9,image/webp,*/*;q=0.8'}\n",
    "    url = \"https://www.crunchbase.com/person/{0}\".format(name.replace(\" \", \"-\"))\n",
    "    r =  requests.get(url, headers=headers)\n",
    "    print(r.__dict__)\n",
    "    if r.status_code == 200:\n",
    "        lower_text = r.text.lower()\n",
    "        if any(project.lower() in lower_text for project in projects):\n",
    "            soup = BeautifulSoup(r.text)\n",
    "            return soup\n",
    "    else:\n",
    "        return []"
   ]
  },
  {
   "cell_type": "code",
   "execution_count": 272,
   "metadata": {
    "collapsed": false
   },
   "outputs": [
    {
     "name": "stdout",
     "output_type": "stream",
     "text": [
      "{'reason': 'OK', '_content': b'<!DOCTYPE html>\\n\\n\\t\\n\\n\\t\\n\\t\\n\\t\\n\\n\\t\\n\\t\\n\\n\\t\\n\\t\\n\\t\\n\\n<head>\\n<META NAME=\"ROBOTS\" CONTENT=\"NOINDEX, NOFOLLOW\">\\n<meta http-equiv=\"cache-control\" content=\"max-age=0\" />\\n<meta http-equiv=\"cache-control\" content=\"no-cache\" />\\n<meta http-equiv=\"expires\" content=\"0\" />\\n<meta http-equiv=\"expires\" content=\"Tue, 01 Jan 1980 1:00:00 GMT\" />\\n<meta http-equiv=\"pragma\" content=\"no-cache\" />\\n<meta http-equiv=\"refresh\" content=\"10; url=/distil_r_blocked.html?Ref=/person/holden-karau&amp;distil_RID=6BD83046-0052-11E7-BD07-BFFF6FBEFFD5&amp;distil_TID=20170303204605\" />\\n<script type=\"text/javascript\">\\n\\t(function(window){\\n\\t\\ttry {\\n\\t\\t\\tif (typeof sessionStorage !== \\'undefined\\'){\\n\\t\\t\\t\\tsessionStorage.setItem(\\'distil_referrer\\', document.referrer);\\n\\t\\t\\t}\\n\\t\\t} catch (e){}\\n\\t})(window);\\n</script>\\n<script type=\"text/javascript\" id=\"d__inj\" class=\"d__inj_delayed\" src=\"/cb-scfwqaqwuewwr.js\" defer></script><style type=\"text/css\">#d__fFH{position:absolute;top:-5000px;left:-5000px}#d__fF{font-family:serif;font-size:200px;visibility:hidden}#yedartyuwcvd{display:none!important}</style></head>\\n<body>\\n<div id=\"distil_ident_block\">&nbsp;</div>\\n</body>\\n</html>\\n', 'elapsed': datetime.timedelta(0, 1, 464468), 'request': <PreparedRequest [GET]>, 'history': [], 'encoding': 'ISO-8859-1', 'url': 'https://www.crunchbase.com/person/holden-karau', '_content_consumed': True, 'status_code': 200, 'raw': <requests.packages.urllib3.response.HTTPResponse object at 0x7fd729fef320>, 'connection': <requests.adapters.HTTPAdapter object at 0x7fd729ff1c18>, 'cookies': <RequestsCookieJar[]>, 'headers': {'Cache-Control': 'no-cache, private, no-cache, no-store, must-revalidate', 'Expires': 'Thu, 01 Jan 1970 00:00:01 GMT', 'Content-Type': 'text/html', 'Surrogate-Control': 'no-store, bypass-cache', 'Edge-Control': 'no-store, bypass-cache', 'Date': 'Fri, 03 Mar 2017 20:46:05 GMT', 'Transfer-Encoding': 'chunked', 'Server': 'nginx', 'Connection': 'keep-alive', 'Content-Encoding': 'gzip', 'Vary': 'Accept-Encoding'}}\n",
      "boo\n"
     ]
    },
    {
     "name": "stderr",
     "output_type": "stream",
     "text": [
      "/usr/local/lib/python3.4/dist-packages/bs4/__init__.py:181: UserWarning: No parser was explicitly specified, so I'm using the best available HTML parser for this system (\"lxml\"). This usually isn't a problem, but if you run this code on another system, or in a different virtual environment, it may use a different parser and behave differently.\n",
      "\n",
      "The code that caused this warning is on line 170 of the file /usr/lib/python3.4/runpy.py. To get rid of this warning, change code that looks like this:\n",
      "\n",
      " BeautifulSoup([your markup])\n",
      "\n",
      "to this:\n",
      "\n",
      " BeautifulSoup([your markup], \"lxml\")\n",
      "\n",
      "  markup_type=markup_type))\n"
     ]
    }
   ],
   "source": [
    "result = lookup_crunchbase_gender(\"holden karau\", [\"spark\"])"
   ]
  },
  {
   "cell_type": "code",
   "execution_count": 273,
   "metadata": {
    "collapsed": false
   },
   "outputs": [
    {
     "data": {
      "text/plain": [
       "<!DOCTYPE html>\n",
       "<html><head>\n",
       "<meta content=\"NOINDEX, NOFOLLOW\" name=\"ROBOTS\"/>\n",
       "<meta content=\"max-age=0\" http-equiv=\"cache-control\"/>\n",
       "<meta content=\"no-cache\" http-equiv=\"cache-control\"/>\n",
       "<meta content=\"0\" http-equiv=\"expires\"/>\n",
       "<meta content=\"Tue, 01 Jan 1980 1:00:00 GMT\" http-equiv=\"expires\"/>\n",
       "<meta content=\"no-cache\" http-equiv=\"pragma\"/>\n",
       "<meta content=\"10; url=/distil_r_blocked.html?Ref=/person/holden-karau&amp;distil_RID=6BD83046-0052-11E7-BD07-BFFF6FBEFFD5&amp;distil_TID=20170303204605\" http-equiv=\"refresh\"/>\n",
       "<script type=\"text/javascript\">\n",
       "\t(function(window){\n",
       "\t\ttry {\n",
       "\t\t\tif (typeof sessionStorage !== 'undefined'){\n",
       "\t\t\t\tsessionStorage.setItem('distil_referrer', document.referrer);\n",
       "\t\t\t}\n",
       "\t\t} catch (e){}\n",
       "\t})(window);\n",
       "</script>\n",
       "<script class=\"d__inj_delayed\" defer=\"\" id=\"d__inj\" src=\"/cb-scfwqaqwuewwr.js\" type=\"text/javascript\"></script><style type=\"text/css\">#d__fFH{position:absolute;top:-5000px;left:-5000px}#d__fF{font-family:serif;font-size:200px;visibility:hidden}#yedartyuwcvd{display:none!important}</style></head>\n",
       "<body>\n",
       "<div id=\"distil_ident_block\"> </div>\n",
       "</body>\n",
       "</html>"
      ]
     },
     "execution_count": 273,
     "metadata": {},
     "output_type": "execute_result"
    }
   ],
   "source": [
    "result"
   ]
  },
  {
   "cell_type": "code",
   "execution_count": 267,
   "metadata": {
    "collapsed": false
   },
   "outputs": [
    {
     "data": {
      "text/plain": [
       "[<meta content=\"NOINDEX, NOFOLLOW\" name=\"ROBOTS\"/>,\n",
       " <meta content=\"max-age=0\" http-equiv=\"cache-control\"/>,\n",
       " <meta content=\"no-cache\" http-equiv=\"cache-control\"/>,\n",
       " <meta content=\"0\" http-equiv=\"expires\"/>,\n",
       " <meta content=\"Tue, 01 Jan 1980 1:00:00 GMT\" http-equiv=\"expires\"/>,\n",
       " <meta content=\"no-cache\" http-equiv=\"pragma\"/>,\n",
       " <meta content=\"10; url=/distil_r_blocked.html?Ref=/person/holden-karau&amp;distil_RID=44D14A96-0052-11E7-9CC3-CDECCBF192E4&amp;distil_TID=20170303204459\" http-equiv=\"refresh\"/>]"
      ]
     },
     "execution_count": 267,
     "metadata": {},
     "output_type": "execute_result"
    }
   ],
   "source": [
    "result.find_all('meta')"
   ]
  },
  {
   "cell_type": "code",
   "execution_count": null,
   "metadata": {
    "collapsed": true
   },
   "outputs": [],
   "source": []
  }
 ],
 "metadata": {
  "kernelspec": {
   "display_name": "Python 3",
   "language": "python",
   "name": "python3"
  },
  "language_info": {
   "codemirror_mode": {
    "name": "ipython",
    "version": 3
   },
   "file_extension": ".py",
   "mimetype": "text/x-python",
   "name": "python",
   "nbconvert_exporter": "python",
   "pygments_lexer": "ipython3",
   "version": "3.4.3"
  }
 },
 "nbformat": 4,
 "nbformat_minor": 2
}
